{
 "cells": [
  {
   "cell_type": "markdown",
   "id": "c55d3a2f",
   "metadata": {},
   "source": [
    "## Import Azure ML SDK"
   ]
  },
  {
   "cell_type": "code",
   "execution_count": null,
   "id": "69de9cd7",
   "metadata": {},
   "outputs": [],
   "source": [
    "import azureml.core\n",
    "from azureml.core import Workspace\n",
    "from azureml.core.model import Model\n",
    "from azureml.core import Experiment\n",
    "from azureml.core.webservice import Webservice\n",
    "from azureml.core.image import ContainerImage\n",
    "from azureml.core.webservice import AciWebservice\n",
    "from azureml.core.conda_dependencies import CondaDependencies"
   ]
  },
  {
   "cell_type": "markdown",
   "id": "5e009f57",
   "metadata": {},
   "source": [
    "## Check  Azure SDK version"
   ]
  },
  {
   "cell_type": "code",
   "execution_count": null,
   "id": "8f40011b",
   "metadata": {},
   "outputs": [],
   "source": [
    "print(azureml.core.VERSION)"
   ]
  },
  {
   "cell_type": "markdown",
   "id": "ac2151df",
   "metadata": {},
   "source": [
    "## Create Azure ML Workspace"
   ]
  },
  {
   "cell_type": "code",
   "execution_count": null,
   "id": "01ebd82f",
   "metadata": {},
   "outputs": [],
   "source": [
    "ws = Workspace.create(name='salary', \n",
    "subscription_id='c15797£7-334d-4759-b8fe-a0c7b908e\"\n",
    "resource_group='webinar', \n",
    "create_resource_group=True, \n",
    "location='southeastasia'\n",
    ") "
   ]
  },
  {
   "cell_type": "markdown",
   "id": "a25be878",
   "metadata": {},
   "source": [
    "## Write Configuration to local file"
   ]
  },
  {
   "cell_type": "code",
   "execution_count": null,
   "id": "f332bceb",
   "metadata": {},
   "outputs": [],
   "source": [
    "ws.write_config()"
   ]
  },
  {
   "cell_type": "markdown",
   "id": "b9c7bb85",
   "metadata": {},
   "source": [
    "## Access from existing config file"
   ]
  },
  {
   "cell_type": "code",
   "execution_count": null,
   "id": "470844c6",
   "metadata": {},
   "outputs": [],
   "source": [
    "ws = Workspace.from_config()"
   ]
  },
  {
   "cell_type": "code",
   "execution_count": null,
   "id": "c64821f3",
   "metadata": {},
   "outputs": [],
   "source": [
    "ws.get_details()"
   ]
  },
  {
   "cell_type": "markdown",
   "id": "f0ab7612",
   "metadata": {},
   "source": [
    "## Create Azure ML Experiment"
   ]
  },
  {
   "cell_type": "code",
   "execution_count": null,
   "id": "eaae6d63",
   "metadata": {},
   "outputs": [],
   "source": [
    "exp = Experiment(workspace=ws, name='salexp')"
   ]
  },
  {
   "cell_type": "markdown",
   "id": "5737a1e4",
   "metadata": {},
   "source": [
    "## Start logging metrics"
   ]
  },
  {
   "cell_type": "code",
   "execution_count": null,
   "id": "d1f5dcfa",
   "metadata": {},
   "outputs": [],
   "source": [
    "run = exp.start_logging()\n",
    "run.log(\"Experiment start time\", str(datetime.datetime.now()))"
   ]
  },
  {
   "cell_type": "markdown",
   "id": "507b9f3e",
   "metadata": {},
   "source": [
    "## Train your ML model (Code)"
   ]
  },
  {
   "cell_type": "code",
   "execution_count": null,
   "id": "d424e704",
   "metadata": {},
   "outputs": [],
   "source": []
  },
  {
   "cell_type": "markdown",
   "id": "b9be3fe7",
   "metadata": {},
   "source": [
    "## Freeze the model"
   ]
  },
  {
   "cell_type": "code",
   "execution_count": null,
   "id": "1ff50276",
   "metadata": {},
   "outputs": [],
   "source": [
    "filename = 'outputs/sal_model.pkl'\n",
    "joblib.dump(lm, filename)"
   ]
  },
  {
   "cell_type": "markdown",
   "id": "152e435a",
   "metadata": {},
   "source": [
    "## Test Model"
   ]
  },
  {
   "cell_type": "code",
   "execution_count": null,
   "id": "6ee2270d",
   "metadata": {},
   "outputs": [],
   "source": [
    "filename = 'outputs/sal_model.pkl'\n",
    "loaded_model=joblib.load(filename) \n",
    "y=loaded_model.predict([[21]])[0] \n",
    "print(y)"
   ]
  },
  {
   "cell_type": "markdown",
   "id": "490cf91c",
   "metadata": {},
   "source": [
    "## Log metrics to Azure ML Experiment"
   ]
  },
  {
   "cell_type": "code",
   "execution_count": null,
   "id": "e50caa69",
   "metadata": {},
   "outputs": [],
   "source": [
    "run.log('Intercept :', lm.intercept )\n",
    "run.log('Slope :', lm.coef_[0])"
   ]
  },
  {
   "cell_type": "markdown",
   "id": "8017dbfe",
   "metadata": {},
   "source": [
    "## End Azure ML Experiment"
   ]
  },
  {
   "cell_type": "code",
   "execution_count": null,
   "id": "8fb9f8a5",
   "metadata": {},
   "outputs": [],
   "source": [
    "run.log(\"Experiment end time\", str(datetime.datetime.now()))\n",
    "run.complete()"
   ]
  },
  {
   "cell_type": "markdown",
   "id": "68413a80",
   "metadata": {},
   "source": [
    "## Get Portal URL"
   ]
  },
  {
   "cell_type": "code",
   "execution_count": null,
   "id": "89daa656",
   "metadata": {},
   "outputs": [],
   "source": [
    "print(run.get_portal_url())"
   ]
  },
  {
   "cell_type": "markdown",
   "id": "ebcea89c",
   "metadata": {},
   "source": [
    "## Register the model"
   ]
  },
  {
   "cell_type": "code",
   "execution_count": null,
   "id": "b3c566b3",
   "metadata": {},
   "outputs": [],
   "source": [
    "model = Model.register(model_path = \"outputs/sal_model.pkl\",\n",
    "                       model_name = \"sal_model”,\n",
    "                       tags = {\"key\": \"1\"},\n",
    "                       description = \"Salary Prediction”,\n",
    "                       workspace = ws)"
   ]
  },
  {
   "cell_type": "markdown",
   "id": "d878d3d3",
   "metadata": {},
   "source": [
    "## Define Azure ML Deploymemt configuration"
   ]
  },
  {
   "cell_type": "code",
   "execution_count": null,
   "id": "86b82765",
   "metadata": {},
   "outputs": [],
   "source": [
    "aciconfig = AciWebservice.deploy_configuration(cpu_cores=1,\n",
    "                                               memory_gb=1,\n",
    "                                               tags={\"data\": \"salary\",\"\": \"method\":\"sklearn\"}\n",
    "                                               description='Predict Stack"
   ]
  },
  {
   "cell_type": "markdown",
   "id": "a8730019",
   "metadata": {},
   "source": [
    "## Create enviroment configuration file"
   ]
  },
  {
   "cell_type": "code",
   "execution_count": null,
   "id": "26d59089",
   "metadata": {},
   "outputs": [],
   "source": [
    "salenv = CondaDependencies()\n",
    "salenv.add_conda_package(\"scikit-learn\")\n",
    "\n",
    "with open(\"salenv.yml\",\"w\") as f:\n",
    "    f.write(salenv.serialize_to_string())\n",
    "with open(\"salenv.yml\",\"r\") as f:\n",
    "    print(f.read())"
   ]
  },
  {
   "cell_type": "markdown",
   "id": "ca4eab7c",
   "metadata": {},
   "source": [
    "## Create Azure ML Scoring file"
   ]
  },
  {
   "cell_type": "code",
   "execution_count": null,
   "id": "838342f4",
   "metadata": {},
   "outputs": [],
   "source": [
    "%%writefile score.py\n",
    "\n",
    "import json\n",
    "import numpy as np\n",
    "import os\n",
    "import pickle \n",
    "from sklearn.externals import joblib\n",
    "from sklearn.linear_model import LogisticRegression\n",
    "from azureml.core.model import Model\n",
    "\n",
    "\n",
    "def init():\n",
    "    global model\n",
    "    # retrive the path to the modelfile using model name\n",
    "    model_path = Model.get_model_path(\"sal_model\")\n",
    "    model =joblib.load(model_path)\n",
    "    \n",
    "def run(raw_data):\n",
    "    data = np.array(json.loads(raw_data)['data'])\n",
    "    #make prediction\n",
    "    y_hat = model.predict(data)\n",
    "    return json.dumps(y_hat.tolist())"
   ]
  },
  {
   "cell_type": "markdown",
   "id": "a241d399",
   "metadata": {},
   "source": [
    "## Deploy the model to Azure Container Instance"
   ]
  },
  {
   "cell_type": "code",
   "execution_count": null,
   "id": "37245dd0",
   "metadata": {},
   "outputs": [],
   "source": [
    "image_config = ContainerImage.image_configuration(execution_script=\"score.py\",\n",
    "                                                  runtime=\"python\",\n",
    "                                                  conda_file=\"salenv.yml\")"
   ]
  },
  {
   "cell_type": "markdown",
   "id": "9861e31e",
   "metadata": {},
   "source": [
    "## Expose web service"
   ]
  },
  {
   "cell_type": "code",
   "execution_count": null,
   "id": "7ced32b7",
   "metadata": {},
   "outputs": [],
   "source": [
    "service = Webservice.deploy_from model(workspace=ws,\n",
    "                                       name='salary-svc',\n",
    "                                       deployment_config=aciconfig,\n",
    "                                       models=[model],\n",
    "                                       image_config=image_config)\n",
    "service.wait_for_deployment(show_output=True)"
   ]
  },
  {
   "cell_type": "code",
   "execution_count": null,
   "id": "5c255a1a",
   "metadata": {},
   "outputs": [],
   "source": [
    "service.wait_for_deployment(show_output=True)"
   ]
  },
  {
   "cell_type": "markdown",
   "id": "db6f7107",
   "metadata": {},
   "source": [
    "## Get the Web Service URL"
   ]
  },
  {
   "cell_type": "code",
   "execution_count": null,
   "id": "04921564",
   "metadata": {},
   "outputs": [],
   "source": [
    "print(service.scoring_uri)"
   ]
  },
  {
   "cell_type": "code",
   "execution_count": null,
   "id": "0d965a1f",
   "metadata": {},
   "outputs": [],
   "source": [
    "!curl -X POST \\\n",
    "    -H 'Content-Type':'application/json' \\\n",
    "    -d '{\"data\":[[45]]}' \\\n",
    "        http://9fdcdd13-2eda-4ad6-812e-d2£330£a46c3. southeastasia.azurecontai"
   ]
  },
  {
   "cell_type": "markdown",
   "id": "8117835f",
   "metadata": {},
   "source": [
    "## Delete Workspace and clean up resources"
   ]
  },
  {
   "cell_type": "code",
   "execution_count": null,
   "id": "6aa093dc",
   "metadata": {},
   "outputs": [],
   "source": [
    "ws.delete()"
   ]
  }
 ],
 "metadata": {
  "kernelspec": {
   "display_name": "Python 3 (ipykernel)",
   "language": "python",
   "name": "python3"
  },
  "language_info": {
   "codemirror_mode": {
    "name": "ipython",
    "version": 3
   },
   "file_extension": ".py",
   "mimetype": "text/x-python",
   "name": "python",
   "nbconvert_exporter": "python",
   "pygments_lexer": "ipython3",
   "version": "3.8.8"
  }
 },
 "nbformat": 4,
 "nbformat_minor": 5
}
