{
 "cells": [
  {
   "cell_type": "markdown",
   "id": "c55d3a2f",
   "metadata": {},
   "source": [
    "## Import Azure ML SDK"
   ]
  },
  {
   "cell_type": "code",
   "execution_count": 1,
   "id": "60c36b62",
   "metadata": {},
   "outputs": [
    {
     "name": "stdout",
     "output_type": "stream",
     "text": [
      "^C\n"
     ]
    }
   ],
   "source": [
    "# !pip install azure"
   ]
  },
  {
   "cell_type": "code",
   "execution_count": 55,
   "id": "69de9cd7",
   "metadata": {},
   "outputs": [],
   "source": [
    "import azureml.core\n",
    "from azureml.core import Workspace\n",
    "from azureml.core.model import Model\n",
    "from azureml.core import Experiment\n",
    "from azureml.core.webservice import Webservice\n",
    "from azureml.core.image import ContainerImage\n",
    "from azureml.core.webservice import AciWebservice\n",
    "from azureml.core.conda_dependencies import CondaDependencies"
   ]
  },
  {
   "cell_type": "markdown",
   "id": "5e009f57",
   "metadata": {},
   "source": [
    "## Check  Azure SDK version"
   ]
  },
  {
   "cell_type": "code",
   "execution_count": 16,
   "id": "8f40011b",
   "metadata": {},
   "outputs": [
    {
     "name": "stdout",
     "output_type": "stream",
     "text": [
      "1.42.0\n"
     ]
    }
   ],
   "source": [
    "print(azureml.core.VERSION)"
   ]
  },
  {
   "cell_type": "markdown",
   "id": "dbfc8f6a",
   "metadata": {},
   "source": [
    "## Create Azure ML Workspace"
   ]
  },
  {
   "cell_type": "code",
   "execution_count": 48,
   "id": "0ab7fb68",
   "metadata": {},
   "outputs": [
    {
     "name": "stdout",
     "output_type": "stream",
     "text": [
      "Deploying StorageAccount with name hrmodelmstorage1a63aa454.\n",
      "Deploying KeyVault with name hrmodelmkeyvault46caf1f6.\n",
      "Deploying AppInsights with name hrmodelminsights496c4fa1.\n",
      "Deployed AppInsights with name hrmodelminsights496c4fa1. Took 1.6 seconds.\n",
      "Deployed StorageAccount with name hrmodelmstorage1a63aa454. Took 19.65 seconds.\n",
      "Deployed KeyVault with name hrmodelmkeyvault46caf1f6. Took 17.96 seconds.\n",
      "Deploying Workspace with name HR-model-managment.\n",
      "Deployed Workspace with name HR-model-managment. Took 18.98 seconds.\n"
     ]
    }
   ],
   "source": [
    "# ws = Workspace.create(name='HR-model-managment',\n",
    "#                       subscription_id=\"262a3c1d-7fe3-4bfb-9f90-7a5b89109336\",\n",
    "#                       resource_group='HRanalytics-890', \n",
    "#                       create_resource_group=False, \n",
    "#                       location='eastus'\n",
    "#                       # location='southeastasia'\n",
    "#                      ) "
   ]
  },
  {
   "cell_type": "markdown",
   "id": "a602d453",
   "metadata": {},
   "source": [
    "## Write Configuration to local file"
   ]
  },
  {
   "cell_type": "code",
   "execution_count": 56,
   "id": "ea0b9b7b",
   "metadata": {},
   "outputs": [],
   "source": [
    "ws.write_config()"
   ]
  },
  {
   "cell_type": "markdown",
   "id": "d366a13d",
   "metadata": {},
   "source": [
    "## Access from existing config file"
   ]
  },
  {
   "cell_type": "code",
   "execution_count": 57,
   "id": "1b7136ca",
   "metadata": {},
   "outputs": [],
   "source": [
    "ws = Workspace.from_config()"
   ]
  },
  {
   "cell_type": "code",
   "execution_count": 24,
   "id": "35da5c83",
   "metadata": {},
   "outputs": [
    {
     "data": {
      "text/plain": [
       "{'id': '/subscriptions/262a3c1d-7fe3-4bfb-9f90-7a5b89109336/resourceGroups/HRanalytics-890/providers/Microsoft.MachineLearningServices/workspaces/HR-model-managment',\n",
       " 'name': 'HR-model-managment',\n",
       " 'identity': {'principal_id': '536ea0d0-6ea5-4fd4-a703-0f90b016d01e',\n",
       "  'tenant_id': '76a2ae5a-9f00-4f6b-95ed-5d33d77c4d61',\n",
       "  'type': 'SystemAssigned'},\n",
       " 'location': 'eastus',\n",
       " 'type': 'Microsoft.MachineLearningServices/workspaces',\n",
       " 'tags': {'createdByToolkit': 'sdk-v1-1.42.0'},\n",
       " 'sku': 'Basic',\n",
       " 'workspaceid': '5d8aa1ce-8645-4cc1-a21a-290b3709c1a1',\n",
       " 'sdkTelemetryAppInsightsKey': '71fa86c2-fe23-49db-bb2e-8537edfb6ead',\n",
       " 'description': '',\n",
       " 'friendlyName': 'HR-model-managment',\n",
       " 'containerRegistry': '/subscriptions/262a3c1d-7fe3-4bfb-9f90-7a5b89109336/resourceGroups/HRanalytics-890/providers/Microsoft.ContainerRegistry/registries/5d8aa1ce86454cc1a21a290b3709c1a1',\n",
       " 'keyVault': '/subscriptions/262a3c1d-7fe3-4bfb-9f90-7a5b89109336/resourceGroups/HRanalytics-890/providers/Microsoft.Keyvault/vaults/hrmodelmkeyvault46caf1f6',\n",
       " 'applicationInsights': '/subscriptions/262a3c1d-7fe3-4bfb-9f90-7a5b89109336/resourceGroups/HRanalytics-890/providers/Microsoft.insights/components/hrmodelminsights496c4fa1',\n",
       " 'storageAccount': '/subscriptions/262a3c1d-7fe3-4bfb-9f90-7a5b89109336/resourceGroups/HRanalytics-890/providers/Microsoft.Storage/storageAccounts/hrmodelmstorage1a63aa454',\n",
       " 'hbiWorkspace': False,\n",
       " 'provisioningState': 'Succeeded',\n",
       " 'discoveryUrl': 'https://eastus.api.azureml.ms/discovery',\n",
       " 'notebookInfo': {'fqdn': 'ml-hr-model-managme-eastus-5d8aa1ce-8645-4cc1-a21a-290b3709c1a1.eastus.notebooks.azure.net',\n",
       "  'resource_id': 'f550da95a47d477e93f0a522166c5eb9'},\n",
       " 'v1LegacyMode': False}"
      ]
     },
     "execution_count": 24,
     "metadata": {},
     "output_type": "execute_result"
    }
   ],
   "source": [
    "ws.get_details()"
   ]
  },
  {
   "cell_type": "markdown",
   "id": "342099cc",
   "metadata": {},
   "source": [
    "## Create Azure ML Experiment"
   ]
  },
  {
   "cell_type": "code",
   "execution_count": null,
   "id": "3e977d39",
   "metadata": {},
   "outputs": [],
   "source": [
    "exp = Experiment(workspace=ws, name='salexp')"
   ]
  },
  {
   "cell_type": "markdown",
   "id": "1f11135b",
   "metadata": {},
   "source": [
    "## Start logging metrics"
   ]
  },
  {
   "cell_type": "code",
   "execution_count": null,
   "id": "114b3970",
   "metadata": {},
   "outputs": [],
   "source": [
    "run = exp.start_logging()\n",
    "run.log(\"Experiment start time\", str(datetime.datetime.now()))"
   ]
  },
  {
   "cell_type": "markdown",
   "id": "37667c8d",
   "metadata": {},
   "source": [
    "## Train your ML model (Code)"
   ]
  },
  {
   "cell_type": "code",
   "execution_count": null,
   "id": "7e2daadc",
   "metadata": {},
   "outputs": [],
   "source": []
  },
  {
   "cell_type": "markdown",
   "id": "933dc9b1",
   "metadata": {},
   "source": [
    "## Freeze the model"
   ]
  },
  {
   "cell_type": "code",
   "execution_count": null,
   "id": "00000215",
   "metadata": {},
   "outputs": [],
   "source": [
    "filename = 'outputs/catboost.pkl'\n",
    "joblib.dump(lm, filename)"
   ]
  },
  {
   "cell_type": "markdown",
   "id": "f663a6dd",
   "metadata": {},
   "source": [
    "## Test Model"
   ]
  },
  {
   "cell_type": "code",
   "execution_count": null,
   "id": "ab1d0c95",
   "metadata": {},
   "outputs": [],
   "source": [
    "filename = 'outputs/catboost.pkl'\n",
    "loaded_model=joblib.load(filename) \n",
    "y=loaded_model.predict([[21]])[0] \n",
    "print(y)"
   ]
  },
  {
   "cell_type": "markdown",
   "id": "d4f7ef1c",
   "metadata": {},
   "source": [
    "## Log metrics to Azure ML Experiment"
   ]
  },
  {
   "cell_type": "code",
   "execution_count": null,
   "id": "cd88a077",
   "metadata": {},
   "outputs": [],
   "source": [
    "run.log('Intercept :', lm.intercept )\n",
    "run.log('Slope :', lm.coef_[0])"
   ]
  },
  {
   "cell_type": "markdown",
   "id": "79addf54",
   "metadata": {},
   "source": [
    "## End Azure ML Experiment"
   ]
  },
  {
   "cell_type": "code",
   "execution_count": null,
   "id": "c60a29fd",
   "metadata": {},
   "outputs": [],
   "source": [
    "run.log(\"Experiment end time\", str(datetime.datetime.now()))\n",
    "run.complete()"
   ]
  },
  {
   "cell_type": "markdown",
   "id": "3340075d",
   "metadata": {},
   "source": [
    "## Get Portal URL"
   ]
  },
  {
   "cell_type": "code",
   "execution_count": null,
   "id": "b89584ba",
   "metadata": {},
   "outputs": [],
   "source": [
    "print(run.get_portal_url())"
   ]
  },
  {
   "cell_type": "markdown",
   "id": "ddf56368",
   "metadata": {},
   "source": [
    "## Register the model"
   ]
  },
  {
   "cell_type": "code",
   "execution_count": 67,
   "id": "a67dbae0",
   "metadata": {},
   "outputs": [
    {
     "name": "stdout",
     "output_type": "stream",
     "text": [
      "Registering model catboost\n"
     ]
    }
   ],
   "source": [
    "model = Model.register(model_path = \"outputs/catboost.pkl\",\n",
    "                       model_name = \"catboost\",\n",
    "                       tags = {\"key\": \"1\"},\n",
    "                       description = \"HR Prediction\",\n",
    "                       workspace = ws)"
   ]
  },
  {
   "cell_type": "markdown",
   "id": "903728d2",
   "metadata": {},
   "source": [
    "## Define Azure ML Deploymemt configuration"
   ]
  },
  {
   "cell_type": "code",
   "execution_count": 68,
   "id": "0d868d81",
   "metadata": {},
   "outputs": [],
   "source": [
    "aciconfig = AciWebservice.deploy_configuration(cpu_cores=1,\n",
    "                                               memory_gb=1,\n",
    "                                               tags={\"data\": \"HR\",\"method\":\"sklearn\"},\n",
    "                                               description='Predict Stack')"
   ]
  },
  {
   "cell_type": "markdown",
   "id": "57cad277",
   "metadata": {},
   "source": [
    "## Create enviroment configuration file"
   ]
  },
  {
   "cell_type": "code",
   "execution_count": 69,
   "id": "81eeaf99",
   "metadata": {},
   "outputs": [
    {
     "name": "stdout",
     "output_type": "stream",
     "text": [
      "# Conda environment specification. The dependencies defined in this file will\n",
      "# be automatically provisioned for runs with userManagedDependencies=False.\n",
      "\n",
      "# Details about the Conda environment file format:\n",
      "# https://conda.io/docs/user-guide/tasks/manage-environments.html#create-env-file-manually\n",
      "\n",
      "name: project_environment\n",
      "dependencies:\n",
      "  # The python interpreter version.\n",
      "  # Currently Azure ML only supports 3.5.2 and later.\n",
      "- python=3.8.12\n",
      "\n",
      "- pip:\n",
      "    # Required packages for AzureML execution, history, and data preparation.\n",
      "  - azureml-defaults\n",
      "\n",
      "- scikit-learn\n",
      "- catboost\n",
      "- joblib\n",
      "channels:\n",
      "- anaconda\n",
      "- conda-forge\n",
      "\n"
     ]
    }
   ],
   "source": [
    "salenv = CondaDependencies()\n",
    "salenv.add_conda_package(\"scikit-learn\")\n",
    "salenv.add_conda_package(\"catboost\")\n",
    "salenv.add_conda_package(\"joblib\")\n",
    "\n",
    "with open(\"salenv.yml\",\"w\") as f:\n",
    "    f.write(salenv.serialize_to_string())\n",
    "with open(\"salenv.yml\",\"r\") as f:\n",
    "    print(f.read())"
   ]
  },
  {
   "cell_type": "markdown",
   "id": "cecd174f",
   "metadata": {},
   "source": [
    "## Create Azure ML Scoring file"
   ]
  },
  {
   "cell_type": "code",
   "execution_count": 70,
   "id": "f575b16f",
   "metadata": {},
   "outputs": [
    {
     "name": "stdout",
     "output_type": "stream",
     "text": [
      "Overwriting score.py\n"
     ]
    }
   ],
   "source": [
    "%%writefile score.py\n",
    "\n",
    "import json\n",
    "import numpy as np\n",
    "import os\n",
    "import pickle \n",
    "import catboost\n",
    "from azureml.core.model import Model\n",
    "import joblib\n",
    "\n",
    "def init():\n",
    "    global model\n",
    "    # retrive the path to the modelfile using model name\n",
    "    model_path = Model.get_model_path(\"catboost\")\n",
    "    model =joblib.load(model_path)\n",
    "    \n",
    "def run(raw_data):\n",
    "    data = np.array(json.loads(raw_data)['data'])\n",
    "    #make prediction\n",
    "    y_hat = model.predict(data)\n",
    "    return json.dumps(y_hat.tolist())"
   ]
  },
  {
   "cell_type": "markdown",
   "id": "118db66d",
   "metadata": {},
   "source": [
    "## Deploy the model to Azure Container Instance"
   ]
  },
  {
   "cell_type": "code",
   "execution_count": 71,
   "id": "0b46c9a3",
   "metadata": {},
   "outputs": [
    {
     "name": "stderr",
     "output_type": "stream",
     "text": [
      "/tmp/ipykernel_4109/919725643.py:1: DeprecationWarning: ContainerImage class has been deprecated and will be removed in a future release. Please migrate to using Environments. https://docs.microsoft.com/en-us/azure/machine-learning/how-to-use-environments\n",
      "  image_config = ContainerImage.image_configuration(execution_script=\"score.py\",\n"
     ]
    }
   ],
   "source": [
    "image_config = ContainerImage.image_configuration(execution_script=\"score.py\",\n",
    "                                                  runtime=\"python\",\n",
    "                                                  conda_file=\"salenv.yml\")"
   ]
  },
  {
   "cell_type": "markdown",
   "id": "3b953909",
   "metadata": {},
   "source": [
    "## Expose web service"
   ]
  },
  {
   "cell_type": "code",
   "execution_count": 63,
   "id": "1f9180d3",
   "metadata": {},
   "outputs": [],
   "source": [
    "from azureml.core import Environment\n",
    "env = Environment.from_conda_specification(\"experiment_env\", \"salenv.yml\")"
   ]
  },
  {
   "cell_type": "code",
   "execution_count": 64,
   "id": "49dcb51f",
   "metadata": {},
   "outputs": [
    {
     "name": "stdout",
     "output_type": "stream",
     "text": [
      "Tips: You can try get_logs(): https://aka.ms/debugimage#dockerlog or local deployment: https://aka.ms/debugimage#debug-locally to debug if deployment takes longer than 10 minutes.\n",
      "Running\n",
      "2022-07-27 14:08:08+00:00 Creating Container Registry if not exists.\n",
      "2022-07-27 14:08:08+00:00 Registering the environment.\n",
      "2022-07-27 14:08:09+00:00 Building image..\n",
      "2022-07-27 14:18:26+00:00 Generating deployment configuration.\n",
      "2022-07-27 14:18:27+00:00 Submitting deployment to compute..\n",
      "2022-07-27 14:18:31+00:00 Checking the status of deployment my-custom-env-service..\n",
      "2022-07-27 14:23:05+00:00 Checking the status of inference endpoint my-custom-env-service.\n",
      "Failed\n"
     ]
    },
    {
     "name": "stderr",
     "output_type": "stream",
     "text": [
      "Service deployment polling reached non-successful terminal state, current service state: Failed\n",
      "Operation ID: 636fb8c0-94cd-45ef-ae44-177f7131f012\n",
      "More information can be found using '.get_logs()'\n",
      "Error:\n",
      "{\n",
      "  \"code\": \"AciDeploymentFailed\",\n",
      "  \"statusCode\": 400,\n",
      "  \"message\": \"Aci Deployment failed with exception: Error in entry script, NameError: name 'joblib' is not defined, please run print(service.get_logs()) to get details.\",\n",
      "  \"details\": [\n",
      "    {\n",
      "      \"code\": \"CrashLoopBackOff\",\n",
      "      \"message\": \"Error in entry script, NameError: name 'joblib' is not defined, please run print(service.get_logs()) to get details.\"\n",
      "    }\n",
      "  ]\n",
      "}\n",
      "\n"
     ]
    },
    {
     "ename": "WebserviceException",
     "evalue": "WebserviceException:\n\tMessage: Service deployment polling reached non-successful terminal state, current service state: Failed\nOperation ID: 636fb8c0-94cd-45ef-ae44-177f7131f012\nMore information can be found using '.get_logs()'\nError:\n{\n  \"code\": \"AciDeploymentFailed\",\n  \"statusCode\": 400,\n  \"message\": \"Aci Deployment failed with exception: Error in entry script, NameError: name 'joblib' is not defined, please run print(service.get_logs()) to get details.\",\n  \"details\": [\n    {\n      \"code\": \"CrashLoopBackOff\",\n      \"message\": \"Error in entry script, NameError: name 'joblib' is not defined, please run print(service.get_logs()) to get details.\"\n    }\n  ]\n}\n\tInnerException None\n\tErrorResponse \n{\n    \"error\": {\n        \"message\": \"Service deployment polling reached non-successful terminal state, current service state: Failed\\nOperation ID: 636fb8c0-94cd-45ef-ae44-177f7131f012\\nMore information can be found using '.get_logs()'\\nError:\\n{\\n  \\\"code\\\": \\\"AciDeploymentFailed\\\",\\n  \\\"statusCode\\\": 400,\\n  \\\"message\\\": \\\"Aci Deployment failed with exception: Error in entry script, NameError: name 'joblib' is not defined, please run print(service.get_logs()) to get details.\\\",\\n  \\\"details\\\": [\\n    {\\n      \\\"code\\\": \\\"CrashLoopBackOff\\\",\\n      \\\"message\\\": \\\"Error in entry script, NameError: name 'joblib' is not defined, please run print(service.get_logs()) to get details.\\\"\\n    }\\n  ]\\n}\"\n    }\n}",
     "output_type": "error",
     "traceback": [
      "\u001b[0;31m---------------------------------------------------------------------------\u001b[0m",
      "\u001b[0;31mWebserviceException\u001b[0m                       Traceback (most recent call last)",
      "Input \u001b[0;32mIn [64]\u001b[0m, in \u001b[0;36m<cell line: 16>\u001b[0;34m()\u001b[0m\n\u001b[1;32m      8\u001b[0m aci_config \u001b[38;5;241m=\u001b[39m AciWebservice\u001b[38;5;241m.\u001b[39mdeploy_configuration(cpu_cores\u001b[38;5;241m=\u001b[39m\u001b[38;5;241m1\u001b[39m, memory_gb\u001b[38;5;241m=\u001b[39m\u001b[38;5;241m1\u001b[39m)\n\u001b[1;32m     10\u001b[0m service \u001b[38;5;241m=\u001b[39m Model\u001b[38;5;241m.\u001b[39mdeploy(workspace\u001b[38;5;241m=\u001b[39mws,\n\u001b[1;32m     11\u001b[0m                       name\u001b[38;5;241m=\u001b[39mservice_name,\n\u001b[1;32m     12\u001b[0m                       models\u001b[38;5;241m=\u001b[39m[model],\n\u001b[1;32m     13\u001b[0m                       inference_config\u001b[38;5;241m=\u001b[39minference_config,\n\u001b[1;32m     14\u001b[0m                       deployment_config\u001b[38;5;241m=\u001b[39maci_config,\n\u001b[1;32m     15\u001b[0m                       overwrite\u001b[38;5;241m=\u001b[39m\u001b[38;5;28;01mTrue\u001b[39;00m)\n\u001b[0;32m---> 16\u001b[0m \u001b[43mservice\u001b[49m\u001b[38;5;241;43m.\u001b[39;49m\u001b[43mwait_for_deployment\u001b[49m\u001b[43m(\u001b[49m\u001b[43mshow_output\u001b[49m\u001b[38;5;241;43m=\u001b[39;49m\u001b[38;5;28;43;01mTrue\u001b[39;49;00m\u001b[43m)\u001b[49m\n",
      "File \u001b[0;32m/anaconda/envs/azureml_py38/lib/python3.8/site-packages/azureml/core/webservice/webservice.py:918\u001b[0m, in \u001b[0;36mWebservice.wait_for_deployment\u001b[0;34m(self, show_output, timeout_sec)\u001b[0m\n\u001b[1;32m    915\u001b[0m         \u001b[38;5;28;01mif\u001b[39;00m \u001b[38;5;129;01mnot\u001b[39;00m logs_response:\n\u001b[1;32m    916\u001b[0m             logs_response \u001b[38;5;241m=\u001b[39m \u001b[38;5;124m'\u001b[39m\u001b[38;5;124mCurrent sub-operation type not known, more logs unavailable.\u001b[39m\u001b[38;5;124m'\u001b[39m\n\u001b[0;32m--> 918\u001b[0m         \u001b[38;5;28;01mraise\u001b[39;00m WebserviceException(\u001b[38;5;124m'\u001b[39m\u001b[38;5;124mService deployment polling reached non-successful terminal state, current \u001b[39m\u001b[38;5;124m'\u001b[39m\n\u001b[1;32m    919\u001b[0m                                   \u001b[38;5;124m'\u001b[39m\u001b[38;5;124mservice state: \u001b[39m\u001b[38;5;132;01m{}\u001b[39;00m\u001b[38;5;130;01m\\n\u001b[39;00m\u001b[38;5;124m'\u001b[39m\n\u001b[1;32m    920\u001b[0m                                   \u001b[38;5;124m'\u001b[39m\u001b[38;5;124mOperation ID: \u001b[39m\u001b[38;5;132;01m{}\u001b[39;00m\u001b[38;5;130;01m\\n\u001b[39;00m\u001b[38;5;124m'\u001b[39m\n\u001b[1;32m    921\u001b[0m                                   \u001b[38;5;124m'\u001b[39m\u001b[38;5;132;01m{}\u001b[39;00m\u001b[38;5;130;01m\\n\u001b[39;00m\u001b[38;5;124m'\u001b[39m\n\u001b[1;32m    922\u001b[0m                                   \u001b[38;5;124m'\u001b[39m\u001b[38;5;124mError:\u001b[39m\u001b[38;5;130;01m\\n\u001b[39;00m\u001b[38;5;124m'\u001b[39m\n\u001b[1;32m    923\u001b[0m                                   \u001b[38;5;124m'\u001b[39m\u001b[38;5;132;01m{}\u001b[39;00m\u001b[38;5;124m'\u001b[39m\u001b[38;5;241m.\u001b[39mformat(\u001b[38;5;28mself\u001b[39m\u001b[38;5;241m.\u001b[39mstate, \u001b[38;5;28mself\u001b[39m\u001b[38;5;241m.\u001b[39m_operation_endpoint\u001b[38;5;241m.\u001b[39msplit(\u001b[38;5;124m'\u001b[39m\u001b[38;5;124m/\u001b[39m\u001b[38;5;124m'\u001b[39m)[\u001b[38;5;241m-\u001b[39m\u001b[38;5;241m1\u001b[39m],\n\u001b[1;32m    924\u001b[0m                                               logs_response, format_error_response), logger\u001b[38;5;241m=\u001b[39mmodule_logger)\n\u001b[1;32m    925\u001b[0m     \u001b[38;5;28mprint\u001b[39m(\u001b[38;5;124m'\u001b[39m\u001b[38;5;132;01m{}\u001b[39;00m\u001b[38;5;124m service creation operation finished, operation \u001b[39m\u001b[38;5;124m\"\u001b[39m\u001b[38;5;132;01m{}\u001b[39;00m\u001b[38;5;124m\"\u001b[39m\u001b[38;5;124m'\u001b[39m\u001b[38;5;241m.\u001b[39mformat(\u001b[38;5;28mself\u001b[39m\u001b[38;5;241m.\u001b[39m_webservice_type,\n\u001b[1;32m    926\u001b[0m                                                                           operation_state))\n\u001b[1;32m    927\u001b[0m \u001b[38;5;28;01mexcept\u001b[39;00m WebserviceException \u001b[38;5;28;01mas\u001b[39;00m e:\n",
      "\u001b[0;31mWebserviceException\u001b[0m: WebserviceException:\n\tMessage: Service deployment polling reached non-successful terminal state, current service state: Failed\nOperation ID: 636fb8c0-94cd-45ef-ae44-177f7131f012\nMore information can be found using '.get_logs()'\nError:\n{\n  \"code\": \"AciDeploymentFailed\",\n  \"statusCode\": 400,\n  \"message\": \"Aci Deployment failed with exception: Error in entry script, NameError: name 'joblib' is not defined, please run print(service.get_logs()) to get details.\",\n  \"details\": [\n    {\n      \"code\": \"CrashLoopBackOff\",\n      \"message\": \"Error in entry script, NameError: name 'joblib' is not defined, please run print(service.get_logs()) to get details.\"\n    }\n  ]\n}\n\tInnerException None\n\tErrorResponse \n{\n    \"error\": {\n        \"message\": \"Service deployment polling reached non-successful terminal state, current service state: Failed\\nOperation ID: 636fb8c0-94cd-45ef-ae44-177f7131f012\\nMore information can be found using '.get_logs()'\\nError:\\n{\\n  \\\"code\\\": \\\"AciDeploymentFailed\\\",\\n  \\\"statusCode\\\": 400,\\n  \\\"message\\\": \\\"Aci Deployment failed with exception: Error in entry script, NameError: name 'joblib' is not defined, please run print(service.get_logs()) to get details.\\\",\\n  \\\"details\\\": [\\n    {\\n      \\\"code\\\": \\\"CrashLoopBackOff\\\",\\n      \\\"message\\\": \\\"Error in entry script, NameError: name 'joblib' is not defined, please run print(service.get_logs()) to get details.\\\"\\n    }\\n  ]\\n}\"\n    }\n}"
     ]
    }
   ],
   "source": [
    "from azureml.core.model import InferenceConfig\n",
    "from azureml.core.webservice import AciWebservice\n",
    "\n",
    "\n",
    "service_name = 'my-custom-env-service'\n",
    "# env = \"salenv.yml\"\n",
    "inference_config = InferenceConfig(entry_script='score.py', environment=env)\n",
    "aci_config = AciWebservice.deploy_configuration(cpu_cores=1, memory_gb=1)\n",
    "\n",
    "service = Model.deploy(workspace=ws,\n",
    "                      name=service_name,\n",
    "                      models=[model],\n",
    "                      inference_config=inference_config,\n",
    "                      deployment_config=aci_config,\n",
    "                      overwrite=True)\n",
    "service.wait_for_deployment(show_output=True)"
   ]
  },
  {
   "cell_type": "code",
   "execution_count": 72,
   "id": "5ac1b6f2",
   "metadata": {},
   "outputs": [
    {
     "name": "stderr",
     "output_type": "stream",
     "text": [
      "/tmp/ipykernel_4109/2184231486.py:1: DeprecationWarning: deploy_from_model has been deprecated and will be removed in a future release. Please migrate to using Environments. https://docs.microsoft.com/en-us/azure/machine-learning/how-to-use-environments\n",
      "  service = Webservice.deploy_from_model(workspace=ws,\n"
     ]
    },
    {
     "name": "stdout",
     "output_type": "stream",
     "text": [
      "Creating image\n",
      "Running.........................................................................................\n",
      "Succeeded\n",
      "Image creation operation finished for image myservice:3, operation \"Succeeded\"\n",
      "Tips: You can try get_logs(): https://aka.ms/debugimage#dockerlog or local deployment: https://aka.ms/debugimage#debug-locally to debug if deployment takes longer than 10 minutes.\n",
      "Running\n",
      "2022-07-27 14:36:06+00:00 Generating deployment configuration.\n",
      "2022-07-27 14:36:06+00:00 Submitting deployment to compute.\n",
      "2022-07-27 14:36:10+00:00 Checking the status of deployment myservice..\n",
      "2022-07-27 14:38:16+00:00 Checking the status of inference endpoint myservice.\n",
      "Succeeded\n",
      "ACI service creation operation finished, operation \"Succeeded\"\n"
     ]
    }
   ],
   "source": [
    "service = Webservice.deploy_from_model(workspace=ws,\n",
    "                                       name='myservice',\n",
    "                                       deployment_config=aciconfig,\n",
    "                                       models=[model],\n",
    "                                       image_config=image_config)\n",
    "service.wait_for_deployment(show_output=True)"
   ]
  },
  {
   "cell_type": "code",
   "execution_count": null,
   "id": "8beaa0ca",
   "metadata": {},
   "outputs": [],
   "source": [
    "service.wait_for_deployment(show_output=True)"
   ]
  },
  {
   "cell_type": "markdown",
   "id": "e2cd72e1",
   "metadata": {},
   "source": [
    "## Get the Web Service URL"
   ]
  },
  {
   "cell_type": "code",
   "execution_count": 76,
   "id": "0f4a80a4",
   "metadata": {},
   "outputs": [],
   "source": [
    "import pandas as pd\n",
    "df = pd.read_csv('Ready_to_model_TS_26july (1).csv')"
   ]
  },
  {
   "cell_type": "code",
   "execution_count": 77,
   "id": "ea92f9ae",
   "metadata": {},
   "outputs": [
    {
     "data": {
      "text/html": [
       "<div>\n",
       "<style scoped>\n",
       "    .dataframe tbody tr th:only-of-type {\n",
       "        vertical-align: middle;\n",
       "    }\n",
       "\n",
       "    .dataframe tbody tr th {\n",
       "        vertical-align: top;\n",
       "    }\n",
       "\n",
       "    .dataframe thead th {\n",
       "        text-align: right;\n",
       "    }\n",
       "</style>\n",
       "<table border=\"1\" class=\"dataframe\">\n",
       "  <thead>\n",
       "    <tr style=\"text-align: right;\">\n",
       "      <th></th>\n",
       "      <th>ggid</th>\n",
       "      <th>gender</th>\n",
       "      <th>unified_grade</th>\n",
       "      <th>city</th>\n",
       "      <th>sub_bu_name</th>\n",
       "      <th>capgemini_tenure_year</th>\n",
       "      <th>age</th>\n",
       "      <th>service_line</th>\n",
       "      <th>reported_date</th>\n",
       "      <th>technology</th>\n",
       "      <th>...</th>\n",
       "      <th>Months_since_Last_promotion</th>\n",
       "      <th>supervisor_id</th>\n",
       "      <th>n1emp_id</th>\n",
       "      <th>Tenure_in_project_in_years</th>\n",
       "      <th>Marital Status</th>\n",
       "      <th>education_score</th>\n",
       "      <th>Rating_diff_from_last_year</th>\n",
       "      <th>Average_last_2_Ratings</th>\n",
       "      <th>Payposition</th>\n",
       "      <th>Leaves_takes_90 days</th>\n",
       "    </tr>\n",
       "  </thead>\n",
       "  <tbody>\n",
       "    <tr>\n",
       "      <th>0</th>\n",
       "      <td>VKPDhptZjydjHsECYsBeOg==</td>\n",
       "      <td>Male</td>\n",
       "      <td>C2</td>\n",
       "      <td>Hyderabad</td>\n",
       "      <td>I&amp;D Core BI</td>\n",
       "      <td>9.463014</td>\n",
       "      <td>42.638356</td>\n",
       "      <td>SAS</td>\n",
       "      <td>2021-01-31</td>\n",
       "      <td>SAS</td>\n",
       "      <td>...</td>\n",
       "      <td>113.556164</td>\n",
       "      <td>/5LUgpG66fPguKyddVNYFQ==</td>\n",
       "      <td>NIA0xTyiXJaAqLXv9sIOeg==</td>\n",
       "      <td>0.24915</td>\n",
       "      <td>Marr.</td>\n",
       "      <td>53.0</td>\n",
       "      <td>0.0</td>\n",
       "      <td>3.0</td>\n",
       "      <td>1.005141</td>\n",
       "      <td>0.0</td>\n",
       "    </tr>\n",
       "  </tbody>\n",
       "</table>\n",
       "<p>1 rows × 24 columns</p>\n",
       "</div>"
      ],
      "text/plain": [
       "                       ggid gender unified_grade       city  sub_bu_name  \\\n",
       "0  VKPDhptZjydjHsECYsBeOg==   Male            C2  Hyderabad  I&D Core BI   \n",
       "\n",
       "   capgemini_tenure_year        age service_line reported_date technology  \\\n",
       "0               9.463014  42.638356          SAS    2021-01-31        SAS   \n",
       "\n",
       "   ... Months_since_Last_promotion             supervisor_id  \\\n",
       "0  ...                  113.556164  /5LUgpG66fPguKyddVNYFQ==   \n",
       "\n",
       "                   n1emp_id Tenure_in_project_in_years  Marital Status  \\\n",
       "0  NIA0xTyiXJaAqLXv9sIOeg==                    0.24915           Marr.   \n",
       "\n",
       "  education_score Rating_diff_from_last_year  Average_last_2_Ratings  \\\n",
       "0            53.0                        0.0                     3.0   \n",
       "\n",
       "  Payposition  Leaves_takes_90 days  \n",
       "0    1.005141                   0.0  \n",
       "\n",
       "[1 rows x 24 columns]"
      ]
     },
     "execution_count": 77,
     "metadata": {},
     "output_type": "execute_result"
    }
   ],
   "source": [
    "df.head(1)"
   ]
  },
  {
   "cell_type": "code",
   "execution_count": 73,
   "id": "affd1b2c",
   "metadata": {},
   "outputs": [
    {
     "name": "stdout",
     "output_type": "stream",
     "text": [
      "http://e124b17b-cf07-4ea0-84f9-8f38f337f3d3.eastus.azurecontainer.io/score\n"
     ]
    }
   ],
   "source": [
    "print(service.scoring_uri)"
   ]
  },
  {
   "cell_type": "code",
   "execution_count": 78,
   "id": "dc4bd885",
   "metadata": {},
   "outputs": [
    {
     "name": "stdout",
     "output_type": "stream",
     "text": [
      "\"[0]\""
     ]
    }
   ],
   "source": [
    "!curl -X POST \\\n",
    "    -H 'Content-Type':'application/json' \\\n",
    "    -d '{\"data\":[[\"Male\",\"C2\",\"Hyderabad\",\"I&D Core BI\",9.463014,42.638356,\"SAS\",\"SAS\",\"Niche\",\"JOHN LEWIS PARTNERSHIP PLC\",113.556164,\"/5LUgpG66fPguKyddVNYFQ==\",\"NIA0xTyiXJaAqLXv9sIOeg==\",0.249150,\"Marr.\",53.0,0.0,3.0,1.005141,0.0]]}' \\\n",
    "        http://e124b17b-cf07-4ea0-84f9-8f38f337f3d3.eastus.azurecontainer.io/score"
   ]
  },
  {
   "cell_type": "markdown",
   "id": "83250ba0",
   "metadata": {},
   "source": [
    "## Delete Workspace and clean up resources"
   ]
  },
  {
   "cell_type": "code",
   "execution_count": 46,
   "id": "dea50011",
   "metadata": {},
   "outputs": [],
   "source": [
    "ws.delete()"
   ]
  }
 ],
 "metadata": {
  "kernelspec": {
   "display_name": "Python 3 (ipykernel)",
   "language": "python",
   "name": "python3"
  },
  "language_info": {
   "codemirror_mode": {
    "name": "ipython",
    "version": 3
   },
   "file_extension": ".py",
   "mimetype": "text/x-python",
   "name": "python",
   "nbconvert_exporter": "python",
   "pygments_lexer": "ipython3",
   "version": "3.8.5"
  }
 },
 "nbformat": 4,
 "nbformat_minor": 5
}
